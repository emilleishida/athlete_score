{
 "cells": [
  {
   "cell_type": "code",
   "execution_count": 1,
   "id": "be051137-2da2-4de9-96fa-733cbc7950c4",
   "metadata": {},
   "outputs": [],
   "source": [
    "import matplotlib.pyplot as plt\n",
    "import numpy as np\n",
    "from scipy.optimize import curve_fit\n",
    "import wr_data as wr\n",
    "import pwlf\n"
   ]
  },
  {
   "cell_type": "code",
   "execution_count": 2,
   "id": "2b2f10b0-ee19-4903-a6b7-cd548b5fd5ae",
   "metadata": {},
   "outputs": [],
   "source": [
    "def sbd_age_model(X, s1, s2):\n",
    "    optimal = 24\n",
    "    mini_age = 16 \n",
    "    \n",
    "    shifted = X - optimal\n",
    "    return  np.where(shifted<0, (s1*shifted)+1, (s2*shifted)+1)"
   ]
  },
  {
   "cell_type": "code",
   "execution_count": 3,
   "id": "3b76a0ec-8b2f-498c-8930-2a19e8669bcc",
   "metadata": {},
   "outputs": [],
   "source": [
    "def facteur_age_sbd(age):\n",
    "\n",
    "    # On fit une 2 lignes pour décrire l'évolution records du monde selon l'age des hommes (moins biaisé par le manque de perf).\n",
    "    # On normalise entre 0 et 1 pour avoir le facteur à appliquer\n",
    "\n",
    "    normed_sbd_wr = wr.sbd_age_homme74[:, 1]/wr.sbd_age_homme74[:, 1].max()\n",
    "    \n",
    "    x0 = np.array([16, 26, 80])\n",
    "    sbd_age_model = pwlf.PiecewiseLinFit(wr.sbd_age_homme74[:, 0], normed_sbd_wr)\n",
    "    sbd_age_model.fit_with_breaks(x0)\n",
    "    facteur = sbd_age_model.predict(age)[0]\n",
    "\n",
    "    #plt.scatter(wr.sbd_age_homme74[:, 0], normed_sbd_wr, color='blue')\n",
    "    #age_range = np.linspace(15, 100, 100)\n",
    "    #plt.plot(age_range, sbd_age_model(age_range, *model_sbd_age_homme_params),color='blue', alpha=0.4, linewidth=4)\n",
    "\n",
    "    return facteur"
   ]
  },
  {
   "cell_type": "code",
   "execution_count": 4,
   "id": "f4bbd0d5-5da0-43db-a563-cd64f9908c24",
   "metadata": {},
   "outputs": [
    {
     "data": {
      "text/plain": [
       "0.711602572505458"
      ]
     },
     "execution_count": 4,
     "metadata": {},
     "output_type": "execute_result"
    }
   ],
   "source": [
    "facteur_age_sbd(55)"
   ]
  },
  {
   "cell_type": "code",
   "execution_count": 50,
   "id": "1c69c60b-5681-4342-81d6-6ee479fb9776",
   "metadata": {},
   "outputs": [
    {
     "data": {
      "text/plain": [
       "[<matplotlib.lines.Line2D at 0x1eeb84fd150>]"
      ]
     },
     "execution_count": 50,
     "metadata": {},
     "output_type": "execute_result"
    },
    {
     "data": {
      "image/png": "[encoded data removed]",
      "text/plain": [
       "<Figure size 640x480 with 1 Axes>"
      ]
     },
     "metadata": {},
     "output_type": "display_data"
    }
   ],
   "source": [
    "plt.scatter(, , color='blue')\n",
    "plt.scatter(wr.sbd_age_femme57[:, 0], wr.sbd_age_femme57[:, 1]/wr.sbd_age_femme57[:, 1].max(), color='red')\n",
    "\n",
    "model_sbd_age_homme_params, _ = curve_fit(sbd_age_model, wr.sbd_age_homme74[:, 0],\n",
    "                                 wr.sbd_age_homme74[:, 1]/wr.sbd_age_homme74[:, 1].max())\n",
    "\n",
    "model_sbd_age_femme_params, _ = curve_fit(sbd_age_model, wr.sbd_age_femme57[:, 0],\n",
    "                                 wr.sbd_age_femme57[:, 1]/wr.sbd_age_femme57[:, 1].max())\n",
    "\n",
    "age_range = np.linspace(16, 80, 100)\n",
    "plt.plot(age_range, sbd_age_model(age_range, *model_sbd_age_homme_params),\n",
    "         color='blue', alpha=0.4, linewidth=4)\n",
    "\n",
    "plt.plot(age_range, sbd_age_model(age_range, *model_sbd_age_femme_params),\n",
    "         color='red', alpha=0.4, linewidth=4)"
   ]
  },
  {
   "cell_type": "code",
   "execution_count": null,
   "id": "ba1e4cf2-9b7e-4172-900d-976f31a59960",
   "metadata": {},
   "outputs": [],
   "source": [
    "wr.sbd_age_homme74[:, 0] -24 "
   ]
  },
  {
   "cell_type": "code",
   "execution_count": null,
   "id": "6eb60ba4-9b20-46dd-97a8-d8b29f01fd74",
   "metadata": {},
   "outputs": [],
   "source": [
    "wr_sbd_homme = np.array([[59, 669.5],\n",
    "                         [66, 770.0],\n",
    "                         [74, 843.0],\n",
    "                         [83, 870.5],\n",
    "                         [93, 917.5],\n",
    "                         [105 ,940.5],\n",
    "                         [120, 978.5],\n",
    "                         [200, 1152.5],\n",
    "                         [300, 1152.5]])\n",
    "\n",
    "wr_sbd_femme = np.array([[47, 433.5],\n",
    "                         [52, 481.0],\n",
    "                         [57, 519.5],\n",
    "                         [63, 557.5],\n",
    "                         [69, 628.0],\n",
    "                         [76, 616.0],\n",
    "                         [84, 647.0],\n",
    "                         [150, 735.5],\n",
    "                         [220, 735.5]])\n",
    "\n",
    "model_params_homme, _ = curve_fit(wr_model, wr_sbd_homme[:, 0], wr_sbd_homme[:, 1], p0=[0.05, 50, 800])\n",
    "model_params_femme, _ = curve_fit(wr_model, wr_sbd_femme[:, 0], wr_sbd_femme[:, 1], p0=[0.05, 50, 800])\n",
    "\n",
    "poids_range = np.linspace(40, 200, 100)\n",
    "\n",
    "plt.figure(figsize=(10, 7))\n",
    "plt.scatter(wr_sbd_homme[:, 0], wr_sbd_homme[:, 1], color='blue', label='WR hommes')\n",
    "plt.plot(poids_range, wr_model(poids_range, *model_params_homme),\n",
    "         color='blue', label='WR hommes théorique', alpha=0.4, linewidth=4)\n",
    "plt.scatter(wr_sbd_femme[:, 0], wr_sbd_femme[:, 1], color='red', label='WR femmes')\n",
    "plt.plot(poids_range, wr_model(poids_range, *model_params_femme),\n",
    "         color='red', label='WR femmes théorique', alpha=0.4, linewidth=4)\n",
    "\n",
    "plt.plot(poids_range, poids_range)\n",
    "\n",
    "plt.xlabel(\"Poids (kg)\", fontsize=16)\n",
    "plt.ylabel(\"S+B+D\", fontsize=16)\n",
    "plt.xlim(40, 145)\n",
    "plt.legend()\n",
    "plt.savefig(\"model_WR_SBD.png\")"
   ]
  },
  {
   "cell_type": "code",
   "execution_count": null,
   "id": "8d7f678d-60bf-4983-a23c-dbc97faa7cb2",
   "metadata": {},
   "outputs": [],
   "source": [
    "import warnings\n",
    "warnings.simplefilter(\"ignore\", category=RuntimeWarning)\n",
    "\n",
    "def score_SBD(sexe, poids, SBD):\n",
    "    if sexe == 'H':\n",
    "        wr = wr_model(poids, *model_params_homme)\n",
    "\n",
    "    elif sexe == 'F':\n",
    "        wr = wr_model(poids, *model_params_femme)\n",
    "\n",
    "    else:\n",
    "        raise Exception(\"ERREUR: Sexe doit être H ou F\")\n",
    "\n",
    "    baseline = 0.15 * wr\n",
    "    print(SBD-baseline)\n",
    "    print(wr-baseline)\n",
    "    \n",
    "    return max((SBD-baseline)/(wr-baseline), 0)\n",
    "\n",
    "\n",
    "def score_endurance(sexe, temps_marathon=None, temps_semi=None):\n",
    "\n",
    "    mdist = 42.195\n",
    "\n",
    "    if sexe == 'H':\n",
    "        wr_marathon = mdist / 120\n",
    "        wr_semi = (mdist/2) / 57.5\n",
    "\n",
    "    elif sexe == 'F':\n",
    "        wr_marathon = mdist / 130\n",
    "        wr_semi = (mdist/2) / 63\n",
    "\n",
    "    else:\n",
    "        raise Exception(\"ERREUR: Sexe doit être H ou F\")\n",
    "\n",
    "    baseline_ratio = 4\n",
    "    baseline_marathon = wr_marathon / baseline_ratio\n",
    "    baseline_semi = wr_semi / baseline_ratio\n",
    "    \n",
    "    scores = [np.nan, np.nan]\n",
    "\n",
    "    if temps_marathon is not None:\n",
    "        vitesse_marathon = mdist/temps_marathon\n",
    "        scores[0] = (vitesse_marathon - baseline_marathon) / (wr_marathon - baseline_marathon)\n",
    "        \n",
    "    if temps_semi is not None:\n",
    "        vitesse_semi = (mdist/2)/temps_semi\n",
    "        scores[1] = (vitesse_semi - baseline_semi) / (wr_semi - baseline_semi)\n",
    "    \n",
    "    return max(np.nanmean(scores), 0)\n",
    "\n",
    "\n",
    "def score_sbdthlete(sexe, poids, SBD, temps_marathon=None, temps_semi=None):\n",
    "\n",
    "    if (temps_marathon==None) & (temps_semi==None):\n",
    "        raise Exception(\"ERREUR: Veuillez renseigner au moins un temps de course\")\n",
    "        \n",
    "    score_SBD_value = score_SBD(sexe, poids, SBD)\n",
    "    score_endurance_value = score_endurance(sexe, temps_marathon=temps_marathon, temps_semi=temps_semi)\n",
    "\n",
    "    tout = np.array([score_SBD_value, score_endurance_value])\n",
    "    renormed_tout = score_renorm(tout)\n",
    "    final = np.nanmean(renormed_tout)\n",
    "\n",
    "    print(f\"Votre score d'athlète est de {final:.1f}%\")\n",
    "    return final, renormed_tout\n",
    "\n",
    "def score_renorm(x, n=1.5):\n",
    "    x = x/2 + 0.5\n",
    "    return 100 * ((x ** n) / ((x ** n) + ((1 - x) ** n)) -0.5) * 2"
   ]
  },
  {
   "cell_type": "code",
   "execution_count": null,
   "id": "f6f04f58-5b5c-4cd3-aba0-fbaef7451510",
   "metadata": {},
   "outputs": [],
   "source": [
    "X = np.linspace(0, 1., 100)\n",
    "plt.plot(X, score_renorm(X))"
   ]
  },
  {
   "cell_type": "code",
   "execution_count": null,
   "id": "cef5a1c5-918d-4d8f-87da-215d805b6241",
   "metadata": {},
   "outputs": [],
   "source": [
    "sexe = 'H'\n",
    "poids = 71\n",
    "SBD = 120 + 170 + 210 \n",
    "\n",
    "temps_marathon = None #238\n",
    "temps_semi = 90\n",
    "\n",
    "final, tout = score_sbdthlete(sexe, poids, SBD, temps_marathon, temps_semi)\n",
    "tout"
   ]
  },
  {
   "cell_type": "code",
   "execution_count": null,
   "id": "d3ddc4f8-e822-42a3-8a2f-5766527597ed",
   "metadata": {},
   "outputs": [],
   "source": [
    "sexe = 'H'\n",
    "poids = 74\n",
    "SBD = 360\n",
    "\n",
    "temps_marathon = 195\n",
    "temps_semi = None\n",
    "\n",
    "final, tout = score_sbdthlete(sexe, poids, SBD, temps_marathon, temps_semi)\n",
    "tout"
   ]
  },
  {
   "cell_type": "code",
   "execution_count": null,
   "id": "5a39f524-ca04-47a3-958c-b008626ff8dc",
   "metadata": {},
   "outputs": [],
   "source": [
    " 115 + 160 + 180 "
   ]
  },
  {
   "cell_type": "code",
   "execution_count": null,
   "id": "bda63c89-370c-44ff-ac9f-68fd32c17da4",
   "metadata": {},
   "outputs": [],
   "source": []
  },
  {
   "cell_type": "code",
   "execution_count": null,
   "id": "7797a7cf-d5df-47ea-85ab-6742a9bfbd13",
   "metadata": {},
   "outputs": [],
   "source": [
    "sexe = 'H'\n",
    "poids = 57\n",
    "SBD = 80 + 120 + 100\n",
    "temps_marathon = 125\n",
    "temps_semi = 60\n",
    "\n",
    "final, tout = score_sbdthlete(sexe, poids, SBD, temps_marathon, temps_semi)\n",
    "tout"
   ]
  },
  {
   "cell_type": "code",
   "execution_count": null,
   "id": "6a29458d-7625-4c9a-9d98-a57b98fb418a",
   "metadata": {},
   "outputs": [],
   "source": [
    "sexe = 'H'\n",
    "poids = 90\n",
    "SBD = 80 + 100 + 130\n",
    "temps_marathon = 280\n",
    "temps_semi = 135\n",
    "\n",
    "final, tout = score_sbdthlete(sexe, poids, SBD, temps_marathon, temps_semi)"
   ]
  },
  {
   "cell_type": "code",
   "execution_count": null,
   "id": "d7dd2ece-162c-4726-9f22-ca538f3bcdd6",
   "metadata": {},
   "outputs": [],
   "source": [
    "sexe = 'F'\n",
    "poids = 64\n",
    "SBD = 65 + 110 + 130\n",
    "temps_marathon = None\n",
    "temps_semi = 128\n",
    "\n",
    "final, tout = score_sbdthlete(sexe, poids, SBD, temps_marathon, temps_semi)\n",
    "tout"
   ]
  },
  {
   "cell_type": "code",
   "execution_count": null,
   "id": "b395d666-7cb3-4c6f-adcd-e42c12a56354",
   "metadata": {},
   "outputs": [],
   "source": [
    "7 "
   ]
  },
  {
   "cell_type": "code",
   "execution_count": 33,
   "id": "0e78b228-35f3-421c-baab-a8f6a382e638",
   "metadata": {},
   "outputs": [
    {
     "name": "stdout",
     "output_type": "stream",
     "text": [
      "70.0\n",
      "Votre score d'athlète est de 72.3%\n"
     ]
    }
   ],
   "source": [
    "import tkinter as tk\n",
    "import athlete as at\n",
    "\n",
    "def compute_result():\n",
    "    temps_semi = float(score_semi_entry.get())\n",
    "    print(temps_semi)\n",
    "\n",
    "    try:\n",
    "        # Fetch input values\n",
    "        age = int(age_entry.get())\n",
    "        sexe = str(sex_entry.get().upper())\n",
    "        poids = float(weight_entry.get())\n",
    "        SBD = float(score_sbd_entry.get())\n",
    "        temps_semi = score_semi_entry.get()\n",
    "        temps_marathon = score_marathon_entry.get()\n",
    "\n",
    "\n",
    "        if temps_semi=='':\n",
    "            temps_semi = None\n",
    "        else:\n",
    "            temps_semi = float(temps_semi)\n",
    "            \n",
    "        if temps_marathon=='':\n",
    "            temps_marathon = None\n",
    "\n",
    "        else:\n",
    "            temps_marathon = float(temps_marathon)\n",
    "\n",
    "        # A simple computation example\n",
    "        # For now, let's just sum the values for the result (you can replace this with your own logic)\n",
    "        \n",
    "        result, _ = at.score_athlete(sexe, poids, age, SBD, temps_marathon, temps_semi)\n",
    "        \n",
    "        # Update the result display\n",
    "        result_label.config(state=tk.NORMAL)  # Enable the result box to change the value\n",
    "        result_label.delete(1.0, tk.END)  # Clear the previous result\n",
    "        result_label.insert(tk.END, f\"{result:.2f}\")  # Insert the computed result\n",
    "        result_label.config(state=tk.DISABLED)  # Disable interaction with the result box\n",
    "    except ValueError:\n",
    "        # Handle invalid inputs (non-numeric or empty fields)\n",
    "        result_label.config(state=tk.NORMAL)\n",
    "        result_label.delete(1.0, tk.END)\n",
    "        result_label.insert(tk.END, \"Invalid Input\")\n",
    "        result_label.config(state=tk.DISABLED)\n",
    "\n",
    "# Create main window\n",
    "root = tk.Tk()\n",
    "root.title(\"User Info and Score Computation\")\n",
    "root.geometry(\"700x400\")\n",
    "\n",
    "# Create and place input fields and labels\n",
    "# Age, Sex, Weight at the bottom center\n",
    "age_label = tk.Label(root, text=\"Age:\")\n",
    "age_label.pack(pady=5)\n",
    "age_entry = tk.Entry(root)\n",
    "age_entry.pack(pady=5)\n",
    "\n",
    "sex_label = tk.Label(root, text=\"Sexe (H ou F):\")\n",
    "sex_label.pack(pady=5)\n",
    "sex_entry = tk.Entry(root)\n",
    "sex_entry.pack(pady=5)\n",
    "\n",
    "weight_label = tk.Label(root, text=\"Poids (kg):\")\n",
    "weight_label.pack(pady=5)\n",
    "weight_entry = tk.Entry(root)\n",
    "weight_entry.pack(pady=5)\n",
    "\n",
    "# Score A on the bottom left\n",
    "score_sbd_label = tk.Label(root, text=\"Score SBD:\")\n",
    "score_sbd_label.place(x=10, y=330)\n",
    "score_sbd_entry = tk.Entry(root)\n",
    "score_sbd_entry.place(x=70, y=330)\n",
    "\n",
    "# Score B on the bottom right\n",
    "score_semi_label = tk.Label(root, text=\"Temps semi marathon (minutes):\")\n",
    "score_semi_label.place(x=250, y=330)\n",
    "score_semi_entry = tk.Entry(root)\n",
    "score_semi_entry.place(x=435, y=330)\n",
    "\n",
    "# Score C on the bottom right\n",
    "score_marathon_label = tk.Label(root, text=\"Temps marathon (minutes):\")\n",
    "score_marathon_label.place(x=250, y=360)\n",
    "score_marathon_entry = tk.Entry(root)\n",
    "score_marathon_entry.place(x=435, y=360)\n",
    "\n",
    "# Central result box at the top\n",
    "result_label = tk.Text(root, height=3, width=30, wrap=tk.WORD, state=tk.DISABLED)\n",
    "result_label.pack(pady=20)\n",
    "\n",
    "# Compute button\n",
    "compute_button = tk.Button(root, text=\"Calcul\", command=compute_result)\n",
    "compute_button.pack(pady=10)\n",
    "\n",
    "# Run the Tkinter event loop\n",
    "root.mainloop()"
   ]
  },
  {
   "cell_type": "code",
   "execution_count": null,
   "id": "3aa73afd-aacd-4f4a-a37c-958b74a00e30",
   "metadata": {},
   "outputs": [],
   "source": []
  }
 ],
 "metadata": {
  "kernelspec": {
   "display_name": "Python 3 (ipykernel)",
   "language": "python",
   "name": "python3"
  },
  "language_info": {
   "codemirror_mode": {
    "name": "ipython",
    "version": 3
   },
   "file_extension": ".py",
   "mimetype": "text/x-python",
   "name": "python",
   "nbconvert_exporter": "python",
   "pygments_lexer": "ipython3",
   "version": "3.11.4"
  }
 },
 "nbformat": 4,
 "nbformat_minor": 5
}
